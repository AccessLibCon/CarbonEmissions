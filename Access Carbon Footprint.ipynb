{
 "cells": [
  {
   "cell_type": "markdown",
   "metadata": {},
   "source": [
    "Can we quantify the carbon cost savings by having Access Virtual this year?\n",
    "\n",
    "Let's start with some information.  \n",
    "\n",
    "> According to the [American Council for an Energy-Efficient Economy](https://www.emergeinteractive.com/wp-content/uploads/2020/02/aceee-cached-research.pdf) it takes 5.12 kWh of electricity per gigabyte of transferred data. And according to the [Department of Energy](https://www.emergeinteractive.com/wp-content/uploads/2020/02/DOE-CO2-Emissions-Generation-Electric-Power-2000.pdf) the average US power plant expends 600 grams of carbon dioxide for every kWh generated. That means that transferring 1GB of data produces 3kg of CO2. [https://www.emergeinteractive.com/insights/detail/does-irresponsible-web-development-contribute-to-global-warming/]\n",
    "\n",
    "\n",
    "We could get actual numbers from our Zoom webinars in session, but let's say that this is our average\n",
    "> A one-hour high-definition video call consumes about 540 MB per person. [https://gerrymcgovern.com/the-hidden-pollution-cost-of-online-meetings/]\n",
    "\n",
    "Access Conference runs 28.5 hours\n",
    "- Monday: 8:30 to 3:30 (7 hours)\n",
    "- Tuesday: 8:30 to 1:30 (5 hours)\n",
    "- Wednesday: Hackfest and Workshops 8:30 to 3:30 (7 hours)\n",
    "- Thursday: 8:30 to 1:30 (5 hours)\n",
    "- Friday: 8:30 to 1 (4.5 hours)\n",
    "\n",
    "The conference is recorded and live streamed either way so assume that these costs are the same. We have to assume that the same people would participate but we know this isn't true.  The conference being virtual (and free) made it possible for attendees without a PD or travel budget able to attend.\n",
    "\n",
    "> Since each tree will remove 7 tons of Carbon Dioxide [https://ythakker.medium.com/how-many-new-trees-would-it-take-to-offset-our-carbon-emissions-13c78ccb09ab]"
   ]
  },
  {
   "cell_type": "code",
   "execution_count": 11,
   "metadata": {
    "scrolled": true
   },
   "outputs": [
    {
     "name": "stdout",
     "output_type": "stream",
     "text": [
      "total registrations: 464\n"
     ]
    }
   ],
   "source": [
    "require 'csv'\n",
    "\n",
    "input = CSV.read('data/2020-registrations_locations.csv', headers: :first_row).map(&:to_h)\n",
    "\n",
    "total_registrations = 0\n",
    "input.each do |row|\n",
    "    total_registrations += row['count'].to_i\n",
    "end\n",
    "\n",
    "puts \"total registrations: #{total_registrations}\""
   ]
  },
  {
   "cell_type": "markdown",
   "metadata": {},
   "source": [
    "Let's say that there is 60% attendance at any given time.  \n",
    "\n",
    "28.5 hours \\* 464 people \\* 0.6 * 540 MB/(person hour) \\* 0.001 GB/MB \\* 3 kg CO2e/GB \\* 0.001 tonne/kg"
   ]
  },
  {
   "cell_type": "code",
   "execution_count": 29,
   "metadata": {},
   "outputs": [
    {
     "data": {
      "text/plain": [
       "\"12.853728 tonne CO2e for the 2020 Access Conference\""
      ]
     },
     "execution_count": 29,
     "metadata": {},
     "output_type": "execute_result"
    }
   ],
   "source": [
    "\"#{28.5*464*0.6*540*0.001*3*0.001} tonne CO2e for the 2020 Access Conference\""
   ]
  },
  {
   "cell_type": "code",
   "execution_count": 34,
   "metadata": {},
   "outputs": [
    {
     "name": "stdout",
     "output_type": "stream",
     "text": [
      "total distance travelled: 1034546 km\n",
      "total distance flown: 424690 km (average: 1490 km) by 285 people\n",
      "total distance driven: 10284 km (average: 57 km) by 179 people\n"
     ]
    }
   ],
   "source": [
    "require 'geocoder'\n",
    "\n",
    "Geocoder.configure(:units => :km)\n",
    "\n",
    "vancouver = Geocoder.search('Vancouver, BC, Canada')\n",
    "confcoords = [vancouver.first.data['lat'],vancouver.first.data['lon']]\n",
    "\n",
    "input = CSV.read('data/2020-registrations_locations.csv', headers: :first_row).map(&:to_h)\n",
    "\n",
    "total_distance = 0\n",
    "distance_less_than_1000 = 0\n",
    "people_travelleing_less_than_1000 = 0\n",
    "distance_greater_than_1000 = 0\n",
    "people_travelleing_greater_than_1000 = 0\n",
    "\n",
    "input.each do |row|\n",
    "    geocoded = Geocoder.search(row['location'])\n",
    "    lat = geocoded.first.data['lat']\n",
    "    lon = geocoded.first.data['lon']    \n",
    "    distance = Geocoder::Calculations.distance_between(confcoords,[lat, lon]).round\n",
    "    if distance < 1000\n",
    "        distance_less_than_1000 += distance\n",
    "        people_travelleing_less_than_1000 +=row['count'].to_i\n",
    "    else\n",
    "        distance_greater_than_1000 += distance\n",
    "        people_travelleing_greater_than_1000 +=row['count'].to_i\n",
    "    end\n",
    "    total_distance += distance*row['count'].to_i\n",
    "end\n",
    "\n",
    "puts \"total distance travelled: #{total_distance} km\"\n",
    "puts \"total distance flown: #{distance_greater_than_1000} km (average: #{distance_greater_than_1000/people_travelleing_greater_than_1000} km) by #{people_travelleing_greater_than_1000} people\"\n",
    "puts \"total distance driven: #{distance_less_than_1000} km (average: #{distance_less_than_1000/people_travelleing_less_than_1000} km) by #{people_travelleing_less_than_1000} people\""
   ]
  },
  {
   "cell_type": "markdown",
   "metadata": {},
   "source": [
    "Suppose everyone that was closer than 1000 km drove and greater than 1000 km flew. Assume that no one carpooled.  Also assume that everyone flew economy.\n",
    "\n",
    "> The average new car emits 120.1g/km of CO2 [https://www.lightfoot.co.uk/news/2017/10/04/how-much-co2-does-a-car-emit-per-year/]\n",
    "\n",
    "\n",
    "Trying to find an estimate for the flights so far the best I've found is using a flight with the average distance.  Turns out Vancouver to Whitehorse is about that far.\n",
    "\n",
    "|Dep Airport|Arr Airport|Distance (KM)|Aircraft|Aircraft Fuel Burn/leg (KG)|Passenger CO2/pax/leg (KG)|\n",
    "|--|--|--|--|--|--|\n",
    "|YVR|YXY|1482.0|319, 320, 734, 735, CR9|6730.7|154.9|\n",
    "|YXY|YVR|1482.0|319, 320, 734, 735, CR9|6729.2|154.9| \n",
    "\n",
    "[https://www.icao.int/environmental-protection/CarbonOffset/Pages/default.aspx]\n",
    "\n",
    "((120.1 g CO2e/km \\* 10284 km \\* 0.001 kg/g) + (154.9 kg CO2e/(person flight) \\* 2 flights \\* 285 people))\\* 0.001 tonne/kg"
   ]
  },
  {
   "cell_type": "code",
   "execution_count": 36,
   "metadata": {},
   "outputs": [
    {
     "data": {
      "text/plain": [
       "\"89.5281084 tonne CO2e if Access had been in Vancouver\""
      ]
     },
     "execution_count": 36,
     "metadata": {},
     "output_type": "execute_result"
    }
   ],
   "source": [
    "\"#{((120.1 * 10284 * 0.001) + (154.9 * 2 * 285))* 0.001} tonne CO2e if Access had been in Vancouver\""
   ]
  },
  {
   "cell_type": "markdown",
   "metadata": {},
   "source": [
    "- Virtual Access (🌲🌲): 12.853728 tonnes CO2e / 7 tonnes CO2e per tree ~2\n",
    "- Physical Access (🌲🌲🌲🌲🌲🌲🌲🌲🌲🌲🌲🌲🌲): 90 tonnes CO2e / 7 tonnes CO2e per tree ~13"
   ]
  },
  {
   "cell_type": "code",
   "execution_count": null,
   "metadata": {},
   "outputs": [],
   "source": []
  }
 ],
 "metadata": {
  "kernelspec": {
   "display_name": "Ruby 2.6.6",
   "language": "ruby",
   "name": "ruby"
  },
  "language_info": {
   "file_extension": ".rb",
   "mimetype": "application/x-ruby",
   "name": "ruby",
   "version": "2.6.6"
  }
 },
 "nbformat": 4,
 "nbformat_minor": 4
}
